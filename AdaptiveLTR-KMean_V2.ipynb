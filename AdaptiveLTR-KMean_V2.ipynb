{
 "cells": [
  {
   "cell_type": "code",
   "execution_count": 1,
   "metadata": {},
   "outputs": [
    {
     "name": "stdout",
     "output_type": "stream",
     "text": [
      "WARNING: pip is being invoked by an old script wrapper. This will fail in a future version of pip.\n",
      "Please see https://github.com/pypa/pip/issues/5599 for advice on fixing the underlying issue.\n",
      "To avoid this problem you can invoke Python with '-m pip' instead of running pip directly.\n",
      "Requirement already satisfied: pyltr in /miniconda3/envs/olp-sdk-for-python-0.6.0-env/lib/python3.7/site-packages (0.2.4)\n",
      "Requirement already satisfied: scikit-learn in /miniconda3/envs/olp-sdk-for-python-0.6.0-env/lib/python3.7/site-packages (from pyltr) (0.22.2.post1)\n",
      "Requirement already satisfied: pandas in /miniconda3/envs/olp-sdk-for-python-0.6.0-env/lib/python3.7/site-packages (from pyltr) (0.25.0)\n",
      "Requirement already satisfied: numpy in /miniconda3/envs/olp-sdk-for-python-0.6.0-env/lib/python3.7/site-packages (from pyltr) (1.16.4)\n",
      "Requirement already satisfied: scipy in /miniconda3/envs/olp-sdk-for-python-0.6.0-env/lib/python3.7/site-packages (from pyltr) (1.3.1)\n",
      "Requirement already satisfied: joblib>=0.11 in /miniconda3/envs/olp-sdk-for-python-0.6.0-env/lib/python3.7/site-packages (from scikit-learn->pyltr) (0.13.2)\n",
      "Requirement already satisfied: python-dateutil>=2.6.1 in /miniconda3/envs/olp-sdk-for-python-0.6.0-env/lib/python3.7/site-packages (from pandas->pyltr) (2.8.0)\n",
      "Requirement already satisfied: pytz>=2017.2 in /miniconda3/envs/olp-sdk-for-python-0.6.0-env/lib/python3.7/site-packages (from pandas->pyltr) (2019.1)\n",
      "Requirement already satisfied: six>=1.5 in /miniconda3/envs/olp-sdk-for-python-0.6.0-env/lib/python3.7/site-packages (from python-dateutil>=2.6.1->pandas->pyltr) (1.12.0)\n"
     ]
    }
   ],
   "source": [
    "!pip install pyltr"
   ]
  },
  {
   "cell_type": "code",
   "execution_count": 2,
   "metadata": {},
   "outputs": [
    {
     "name": "stdout",
     "output_type": "stream",
     "text": [
      "WARNING: pip is being invoked by an old script wrapper. This will fail in a future version of pip.\n",
      "Please see https://github.com/pypa/pip/issues/5599 for advice on fixing the underlying issue.\n",
      "To avoid this problem you can invoke Python with '-m pip' instead of running pip directly.\n",
      "Requirement already satisfied: more_itertools in /miniconda3/envs/olp-sdk-for-python-0.6.0-env/lib/python3.7/site-packages (8.2.0)\n"
     ]
    }
   ],
   "source": [
    "!pip install more_itertools"
   ]
  },
  {
   "cell_type": "code",
   "execution_count": 3,
   "metadata": {},
   "outputs": [
    {
     "name": "stderr",
     "output_type": "stream",
     "text": [
      "//miniconda3/envs/olp-sdk-for-python-0.6.0-env/lib/python3.7/site-packages/sklearn/externals/six.py:31: FutureWarning: The module is deprecated in version 0.21 and will be removed in version 0.23 since we've dropped support for Python 2.7. Please rely on the official version of six (https://pypi.org/project/six/).\n",
      "  \"(https://pypi.org/project/six/).\", FutureWarning)\n"
     ]
    }
   ],
   "source": [
    "import warnings\n",
    "import pyltr\n",
    "import copy \n",
    "warnings.filterwarnings('ignore')"
   ]
  },
  {
   "cell_type": "code",
   "execution_count": 4,
   "metadata": {},
   "outputs": [],
   "source": [
    "from sklearn.cluster import KMeans\n",
    "import numpy as np\n",
    "from more_itertools import sort_together"
   ]
  },
  {
   "cell_type": "code",
   "execution_count": 22,
   "metadata": {},
   "outputs": [],
   "source": [
    "## Finding the key inside a dict\n",
    "def find_matching_key_index(id, data):\n",
    "    for i in range(0,len(data)):\n",
    "        if data[i]['id'] == id:\n",
    "            return i\n",
    "    return -1\n",
    "\n",
    "\n",
    "## partition data cluster wise\n",
    "def partition_data_cluster_wise(X_d,Y_d,T_q,labels):\n",
    "    data_dict = []\n",
    "    for i in range(0, len(labels)):\n",
    "        idx = find_matching_key_index(labels[i],data_dict )\n",
    "        if idx == -1:\n",
    "            data = {}\n",
    "            data['id'] = labels[i]\n",
    "            data['data'] = X_d[i:i+1]\n",
    "            data['label'] = Y_d[i:i+1]\n",
    "            data['tqid'] = T_q[i:i+1]\n",
    "            data_dict.append(data)\n",
    "        else :\n",
    "            data = {}\n",
    "            d =  data_dict[idx]['data']\n",
    "            la =  data_dict[idx]['label']\n",
    "            tq =  data_dict[idx]['tqid']\n",
    "            data_dict[idx]['data'] = np.concatenate((d, X_d[i:i+1]), axis=0)\n",
    "            data_dict[idx]['label'] = np.concatenate((la, Y_d[i:i+1]), axis=0)\n",
    "            data_dict[idx]['tqid'] = np.concatenate((tq, T_q[i:i+1]), axis=0)\n",
    "\n",
    "    return data_dict\n",
    "\n",
    "## concatenate all the evaluation across clusters\n",
    "def concatenate_cluster_eval(p_data):\n",
    "    m_data = {}\n",
    "    m_data['data'] = np.array([[np.array(xx)] for xx in  p_data[0]['eval']])\n",
    "    m_data['label'] = p_data[0]['label']\n",
    "    m_data['tqid'] = p_data[0]['tqid']\n",
    "    for j in range(1, len(p_data)):\n",
    "        dd = np.array([[np.array(xx)] for xx in  p_data[j]['eval']])\n",
    "        m_data['data'] = np.concatenate((m_data['data'] ,dd), axis=0)\n",
    "        m_data['label'] = np.concatenate((m_data['label'] , p_data[j]['label']), axis=0)\n",
    "        m_data['tqid'] = np.concatenate((m_data['tqid'] , p_data[j]['tqid']), axis=0)\n",
    "    return m_data\n",
    "\n",
    "## train model using LamdaMart \n",
    "def train_model_using_LambdaMART(p_data):\n",
    "    for j in range(0,len(p_data)):\n",
    "        metric = pyltr.metrics.NDCG(k=5)\n",
    "    \n",
    "        model = pyltr.models.LambdaMART(\n",
    "            metric=metric,\n",
    "            n_estimators=500,\n",
    "            verbose=0,\n",
    "        )\n",
    "\n",
    "        model.fit(p_data[j]['data'], p_data[j]['label'], p_data[j]['tqid'])\n",
    "        p_data[j]['model'] = model\n",
    "        p_data[j]['metric'] = metric\n",
    "      \n",
    "    return p_data\n",
    "\n",
    "##evaluate partiotioned data\n",
    "def evaluate_partitioned_data(p_data) :\n",
    "    for j in range(0,len(p_data)):\n",
    "        Epred = p_data[j]['model'].predict(p_data[j]['data'])\n",
    "        evl_arr = evalute_preds_1(p_data[j]['label'],Epred,p_data[j]['tqid'], p_data[j]['metric'])\n",
    "        p_data[j]['eval'] = evl_arr\n",
    "    return p_data\n",
    "\n",
    "##evaluate on all features\n",
    "def evaluate_features(p_data, X, Y, tqids):\n",
    "    eval_dict_arr = []\n",
    "    eval_dict = {}\n",
    "    for j in range(0,len(p_data)):\n",
    "        Epred = p_data[j]['model'].predict(X)\n",
    "        evl_arr = evalute_preds_1(Y, Epred, tqids, p_data[j]['metric'])\n",
    "        eval_dict['id'] = j\n",
    "        eval_dict['features'] = X\n",
    "        eval_dict['eval'] = evl_arr\n",
    "        eval_dict_arr.append(eval_dict)\n",
    "    return eval_dict_arr\n",
    "  \n",
    "    \n",
    "def mean_val_pred(Y,y_pred,Qids, met):\n",
    "    evl_arr = evalute_preds_1(Y, y_pred, Qids, met)\n",
    "    return np.mean(evl_arr)\n",
    "    \n",
    "\"\"\"\n",
    "Evaluate prediction\n",
    "\"\"\"\n",
    "def evalute_preds_1(Y,Y_pred,Qids, met):\n",
    "    ev_arr = []\n",
    "    query_groups = pyltr.util.group.get_groups(Qids)\n",
    "    for qd, a,b in query_groups:\n",
    "        m = met.evaluate_preds(qd,Y[a:b], Y_pred[a:b] )\n",
    "        if m > 1.0:\n",
    "            m = 0\n",
    "        #copy the same value b-a times\n",
    "        ev_arr.extend([m]*(b-a))\n",
    "    return  ev_arr\n",
    "\n",
    "\"\"\"\n",
    "Group data inside a cluster based on ids as ids needs to be  contiguous.\n",
    "It may happen that after clustering the tids are not contigous then LambdaMart will throw error\n",
    "\"\"\"\n",
    "def group_tqids(p_data):\n",
    "    for j in range(0, len(p_data)):\n",
    "        aa = p_data[j]['data']\n",
    "        bb = p_data[j]['label']\n",
    "        cc = p_data[j]['tqid']\n",
    "        ord_data = sort_together([cc,aa.flatten(),bb])\n",
    "        p_data[j]['data'] = np.array([[np.array(d)] for d in ord_data[1]])\n",
    "        p_data[j]['label'] = np.array(ord_data[2])\n",
    "        p_data[j]['tqid'] = np.array(ord_data[0])\n",
    "    return p_data\n",
    "\n",
    "def mean_values(p_data, tx, ty, tqids ):\n",
    "    elm_rem = -1\n",
    "    mean_vals  = []\n",
    "    for k in range(0,len(p_data)):\n",
    "       \n",
    "        Epred = p_data[k]['model'].predict(tx)\n",
    "        m_val = mean_val_pred(ty, Epred,tqids, p_data[k]['metric'])\n",
    "        #m_val =  p_data[k]['metric'].calc_mean(tqids, ty, Epred)\n",
    "\n",
    "        mean_vals.append(m_val)\n",
    "    return p_data, mean_vals     "
   ]
  },
  {
   "cell_type": "code",
   "execution_count": 6,
   "metadata": {},
   "outputs": [],
   "source": [
    "with open('./MQ2007/Fold1/train.txt') as trainfile, \\\n",
    "         open('./MQ2007/Fold1/vali.txt') as valifile, \\\n",
    "         open('./MQ2007/Fold1/test.txt') as evalfile:\n",
    "    TX, Ty, Tqids, _ = pyltr.data.letor.read_dataset(trainfile)\n",
    "    VX, Vy, Vqids, _ = pyltr.data.letor.read_dataset(valifile)\n",
    "    EX, Ey, Eqids, _ = pyltr.data.letor.read_dataset(evalfile)"
   ]
  },
  {
   "cell_type": "markdown",
   "metadata": {},
   "source": [
    "### Train Base Line model on all features"
   ]
  },
  {
   "cell_type": "code",
   "execution_count": 7,
   "metadata": {},
   "outputs": [
    {
     "data": {
      "text/plain": [
       "<pyltr.models.lambdamart.LambdaMART at 0x1a1e856690>"
      ]
     },
     "execution_count": 7,
     "metadata": {},
     "output_type": "execute_result"
    }
   ],
   "source": [
    "base_metric = pyltr.metrics.NDCG(k=5)\n",
    "    \n",
    "base_model = pyltr.models.LambdaMART(\n",
    "            metric=base_metric,\n",
    "            n_estimators=500,\n",
    "            verbose=0,\n",
    ")\n",
    "\n",
    "base_model.fit(TX,Ty, Tqids)"
   ]
  },
  {
   "cell_type": "markdown",
   "metadata": {},
   "source": [
    "#### Step 1, take the average of the features"
   ]
  },
  {
   "cell_type": "code",
   "execution_count": 8,
   "metadata": {},
   "outputs": [
    {
     "data": {
      "text/plain": [
       "array([3, 2, 0, ..., 4, 3, 1], dtype=int32)"
      ]
     },
     "execution_count": 8,
     "metadata": {},
     "output_type": "execute_result"
    }
   ],
   "source": [
    "##Step 1\n",
    "## compute the average of the feature\n",
    "NO_OF_CLUSTER=5\n",
    "f_avg = np.array([[np.mean(subarray)] for subarray in TX])\n",
    "##cluster the feature into n clusters as stated in the research paper\n",
    "km_f_avg = KMeans(n_clusters= NO_OF_CLUSTER, random_state=0).fit(f_avg)\n",
    "km_f_avg.labels_"
   ]
  },
  {
   "cell_type": "markdown",
   "metadata": {},
   "source": [
    "#### Train the model on each cluster"
   ]
  },
  {
   "cell_type": "code",
   "execution_count": 9,
   "metadata": {},
   "outputs": [],
   "source": [
    "## Arrange the data cluster wise\n",
    "partitioned_data = partition_data_cluster_wise(f_avg,Ty,Tqids,km_f_avg.labels_)\n",
    "##train model for each cluster\n",
    "partitioned_data = train_model_using_LambdaMART(partitioned_data)"
   ]
  },
  {
   "cell_type": "markdown",
   "metadata": {},
   "source": [
    "#### Evaluate partitioned data and create new features set based in the evaluation"
   ]
  },
  {
   "cell_type": "code",
   "execution_count": 10,
   "metadata": {},
   "outputs": [],
   "source": [
    "##evaluate partiotioned data\n",
    "partitioned_data = evaluate_partitioned_data(partitioned_data)\n",
    "_data_1 = copy.deepcopy(partitioned_data)\n",
    "\n",
    "##merge partitioned data as mentioned in the paper [q11,q12, ..q1n, q21,q22, ...., q41,...]\n",
    "merg_data = concatenate_cluster_eval(partitioned_data)\n"
   ]
  },
  {
   "cell_type": "markdown",
   "metadata": {},
   "source": [
    "### Step 2 cluster data on new feature set created from evaluation and train it again"
   ]
  },
  {
   "cell_type": "code",
   "execution_count": 11,
   "metadata": {},
   "outputs": [
    {
     "data": {
      "text/plain": [
       "array([0, 0, 0, ..., 1, 1, 1], dtype=int32)"
      ]
     },
     "execution_count": 11,
     "metadata": {},
     "output_type": "execute_result"
    }
   ],
   "source": [
    "km_f_avg = KMeans(n_clusters=NO_OF_CLUSTER, random_state=0).fit(merg_data['data'])\n",
    "km_f_avg.labels_"
   ]
  },
  {
   "cell_type": "code",
   "execution_count": 12,
   "metadata": {},
   "outputs": [],
   "source": [
    "partitioned_data = partition_data_cluster_wise(merg_data['data'],merg_data['label'],merg_data['tqid'],km_f_avg.labels_)\n",
    "##group the ids as it needs to be contogous\n",
    "partitioned_data = group_tqids(partitioned_data)\n",
    "##train model again on this dataset\n",
    "partitioned_data = train_model_using_LambdaMART(partitioned_data)"
   ]
  },
  {
   "cell_type": "markdown",
   "metadata": {},
   "source": [
    "#### Evaluate partitioned data and create new feature set based in second clusters"
   ]
  },
  {
   "cell_type": "code",
   "execution_count": 13,
   "metadata": {},
   "outputs": [],
   "source": [
    "##evaluate partiotioned data\n",
    "partitioned_data = evaluate_partitioned_data(partitioned_data)\n",
    "_data_2 = copy.deepcopy(partitioned_data)\n",
    "##merge partitioned data as mentioned in the paper [q11,q12, ..q1n, q21,q22, ...., q41,...]\n",
    "merg_data = concatenate_cluster_eval(partitioned_data)"
   ]
  },
  {
   "cell_type": "markdown",
   "metadata": {},
   "source": [
    "#### Step 3 cluster data for the last time  on new feature set created from evaluation and train it again"
   ]
  },
  {
   "cell_type": "code",
   "execution_count": 14,
   "metadata": {},
   "outputs": [],
   "source": [
    "km_f_avg = KMeans(n_clusters=NO_OF_CLUSTER, random_state=0).fit(merg_data['data'])\n",
    "partitioned_data = partition_data_cluster_wise(merg_data['data'],merg_data['label'],merg_data['tqid'],km_f_avg.labels_)\n",
    "##group the ids as it needs to be contogous\n",
    "partitioned_data= group_tqids(partitioned_data)\n",
    "##train model again on this dataset\n",
    "partitioned_data = train_model_using_LambdaMART(partitioned_data)\n",
    "##evaluate partiotioned data\n",
    "partitioned_data = evaluate_partitioned_data(partitioned_data)\n",
    "_data_3 = copy.deepcopy(partitioned_data)"
   ]
  },
  {
   "cell_type": "markdown",
   "metadata": {},
   "source": [
    "### Plot mean value across cluster"
   ]
  },
  {
   "cell_type": "code",
   "execution_count": 15,
   "metadata": {},
   "outputs": [],
   "source": [
    "%matplotlib inline\n",
    "import matplotlib\n",
    "import matplotlib.pyplot as plt"
   ]
  },
  {
   "cell_type": "code",
   "execution_count": 26,
   "metadata": {},
   "outputs": [
    {
     "data": {
      "image/png": "[encoded data removed]",
      "text/plain": [
       "<Figure size 432x288 with 1 Axes>"
      ]
     },
     "metadata": {
      "needs_background": "light"
     },
     "output_type": "display_data"
    }
   ],
   "source": [
    "p_data, m_vals = mean_values(partitioned_data, TX, Ty,Tqids)\n",
    "\n",
    "#compute base value\n",
    "Epred = base_model.predict(TX)\n",
    "base_val = base_metric.calc_mean(Tqids, Ty, Epred)\n",
    "plt.plot(m_vals)\n",
    "plt.title('NDGC@5 vs Cluster Label')\n",
    "plt.xlabel(\"Cluster Label\")\n",
    "plt.ylabel(\"Mean Value\")\n",
    "plt.hlines(y=base_val, xmin=0, xmax=4, linewidth=2, color='r')\n",
    "plt.show()"
   ]
  },
  {
   "cell_type": "markdown",
   "metadata": {},
   "source": [
    "### Prepare training data for cluster classification\n",
    "   - Take top 10 query and the corresponding model as the label\n",
    "   - Take average of the 10 queries "
   ]
  },
  {
   "cell_type": "code",
   "execution_count": null,
   "metadata": {},
   "outputs": [],
   "source": [
    "f_list = []\n",
    "lab_list = []\n",
    "for l in range(0, len(partitioned_data)):\n",
    "    ##take top 10 document\n",
    "    Epred = partitioned_data[l]['model'].predict(TX)\n",
    "    x = evalute_preds_1(Ty,Epred,Tqids, partitioned_data[l]['metric'])\n",
    "    r, f = sort_together([x,TX], reverse = True)\n",
    "    f_list.append(np.mean(np.array(f[:10]), axis=0))\n",
    "    #lab_list.extend([partitioned_data[l]['id']])\n",
    "    lab_list.extend([l])\n",
    "X_data = np.array(f_list)\n",
    "y_data = np.array(lab_list)"
   ]
  },
  {
   "cell_type": "markdown",
   "metadata": {},
   "source": [
    "### Train a Logistic Regression on this data set for predicting the cluster"
   ]
  },
  {
   "cell_type": "code",
   "execution_count": null,
   "metadata": {},
   "outputs": [],
   "source": [
    "from sklearn.datasets import load_iris\n",
    "from sklearn.linear_model import LogisticRegression\n",
    "clf = LogisticRegression(random_state=0).fit(X_data, y_data)"
   ]
  },
  {
   "cell_type": "markdown",
   "metadata": {},
   "source": [
    "### Choose model using classifier and the predict using selected model"
   ]
  },
  {
   "cell_type": "code",
   "execution_count": null,
   "metadata": {},
   "outputs": [],
   "source": [
    "sel_model_val = []\n",
    "base_model_val = []\n",
    "for p in range(0, len(TX)-1):\n",
    "    cluster_idx = clf.predict(TX[p:p+1, :])[0]  \n",
    "    Epred = partitioned_data[cluster_idx]['model'].predict(TX[p:p+1, :])\n",
    "    #m_val = partitioned_data[cluster_idx]['metric'].calc_mean(Tqids[p:p+1], Ty[p:p+1], Epred)\n",
    "    m_val = mean_val_pred(Ty[p:p+1],Epred,  Tqids[p:p+1], partitioned_data[cluster_idx]['metric'])##.calc_mean(Tqids[p:p+1], Ty[p:p+1], Epred) mean_val_pred\n",
    "    sel_model_val.append(m_val)\n",
    "    Epred_b = base_model.predict(TX[p:p+1, :])\n",
    "    m_val_base = base_metric.calc_mean(Tqids[p:p+1], Ty[p:p+1], Epred_b)\n",
    "    base_model_val.append(m_val_base)"
   ]
  },
  {
   "cell_type": "markdown",
   "metadata": {},
   "source": [
    "### Plot document wise NDGC"
   ]
  },
  {
   "cell_type": "code",
   "execution_count": null,
   "metadata": {},
   "outputs": [],
   "source": [
    "plt.plot(sel_model_val)\n",
    "plt.title('NDGC@5 vs Cluster Label')\n",
    "plt.xlabel(\"Cluster Label\")\n",
    "plt.ylabel(\"Mean Value\")\n",
    "plt.show()"
   ]
  },
  {
   "cell_type": "code",
   "execution_count": null,
   "metadata": {},
   "outputs": [],
   "source": []
  }
 ],
 "metadata": {
  "kernelspec": {
   "display_name": "Python 3",
   "language": "python",
   "name": "python3"
  },
  "language_info": {
   "codemirror_mode": {
    "name": "ipython",
    "version": 3
   },
   "file_extension": ".py",
   "mimetype": "text/x-python",
   "name": "python",
   "nbconvert_exporter": "python",
   "pygments_lexer": "ipython3",
   "version": "3.7.1"
  }
 },
 "nbformat": 4,
 "nbformat_minor": 2
}
